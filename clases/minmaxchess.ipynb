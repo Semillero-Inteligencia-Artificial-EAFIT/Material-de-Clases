{
  "cells": [
    {
      "cell_type": "markdown",
      "metadata": {
        "id": "ZR_qw72qFe9Y"
      },
      "source": [
        "#MiniMax\n",
        "No tengo amigos que juegen ajedrez ;-(\n",
        "\n",
        "![](http://zackmdavis.net/blog/wp-content/uploads/2019/05/game_tree.png)\n",
        "\n",
        "#### objetivos\n",
        "\n",
        "- entender minimax,alphabeta y la heuristica\n",
        "\n",
        "- desarrollar un openente de ajedrez y usar minimax\n"
      ]
    },
    {
      "cell_type": "code",
      "execution_count": null,
      "metadata": {
        "colab": {
          "base_uri": "https://localhost:8080/"
        },
        "id": "FraISlHgEmnL",
        "outputId": "5d92df26-65b0-4c40-c406-5202e6b56ac2"
      },
      "outputs": [
        {
          "name": "stdout",
          "output_type": "stream",
          "text": [
            "Collecting chess\n",
            "  Downloading chess-1.10.0-py3-none-any.whl (154 kB)\n",
            "\u001b[?25l     \u001b[90m━━━━━━━━━━━━━━━━━━━━━━━━━━━━━━━━━━━━━━━━\u001b[0m \u001b[32m0.0/154.4 kB\u001b[0m \u001b[31m?\u001b[0m eta \u001b[36m-:--:--\u001b[0m\r\u001b[2K     \u001b[90m━━━━━━━━━━━━━━━━━━━━━━━━━━━━━━━━━━━━━━━\u001b[0m \u001b[32m154.4/154.4 kB\u001b[0m \u001b[31m6.3 MB/s\u001b[0m eta \u001b[36m0:00:00\u001b[0m\n",
            "\u001b[?25hInstalling collected packages: chess\n",
            "Successfully installed chess-1.10.0\n"
          ]
        }
      ],
      "source": [
        "!pip install chess"
      ]
    },
    {
      "cell_type": "code",
      "execution_count": null,
      "metadata": {
        "id": "nWd_ZrFLGNvK"
      },
      "outputs": [],
      "source": [
        "import chess\n",
        "import random\n",
        "\n",
        "def score_analisis(board:chess.Board(), my_color:bool)->int:\n",
        "\t\"\"\"\n",
        "\tThis function cost function that is charge of evaluating the score of the board. It sums the values of the\n",
        "  pieces that are present\n",
        "\t\"\"\"\n",
        "\t#The value of each type of piece\n",
        "\tpiece_values = {\n",
        "\t\t\tchess.PAWN: 100,\n",
        "\t\t\tchess.KNIGHT: 320,\n",
        "\t\t\tchess.BISHOP: 330,\n",
        "\t\t\tchess.ROOK: 500,\n",
        "\t\t\tchess.QUEEN: 900,\n",
        "\t\t\tchess.KING: 20000\n",
        "\t}\n",
        "\tscore = 0\n",
        "\n",
        "  #Score evaluation of the board at that instant\n",
        "\tfor piece_type in piece_values:\n",
        "\t\t\tscore += len(board.pieces(piece_type, my_color)) * piece_values[piece_type]\n",
        "\t\t\tscore -= len(board.pieces(piece_type, not my_color)) * piece_values[piece_type]\n",
        "\treturn score\n",
        "def alphabeta(board:chess.Board, depth:int, alpha:int, beta:int,  maximizing_player:bool, maximizing_color:bool) -> int:\n",
        "  \"\"\"\n",
        "  This function implements the MinMax algorithm along with the Alpha-Beta pruning enhancement technique.\n",
        "  Minmax is an heuristic search algorithm that finds the best possible way to make a play when there's multiple\n",
        "  choices available. Also works with the help of Alpha-Beta pruning technique which iscommonly use to discard\n",
        "  the choices (branches of the tree) that don't show any benefits respect to the solution.\n",
        "  \"\"\"\n",
        "  if depth == 0 or board.is_game_over():\n",
        "      return score_analisis(board, maximizing_color)\n",
        "\n",
        "  # Generar movimientos legales\n",
        "  legal_moves = list(board.legal_moves)\n",
        "  # Aleatorizar los movimientos para evitar patrones de juego predecibles\n",
        "  random.shuffle(legal_moves)\n",
        "\n",
        "  if maximizing_player:\n",
        "      max_eval = float('-inf')\n",
        "      for move in legal_moves:\n",
        "\n",
        "          board.push(move)\n",
        "          eval = alphabeta(board, depth-1, alpha, beta, False, maximizing_color)\n",
        "          board.pop()\n",
        "\n",
        "          max_eval = max(max_eval, eval)\n",
        "          alpha = max(alpha, eval)\n",
        "          if beta <= alpha:\n",
        "              break\n",
        "      return max_eval\n",
        "  else:\n",
        "      min_eval = float('inf')\n",
        "      for move in legal_moves:\n",
        "          board.push(move)\n",
        "          eval = alphabeta(board, depth-1, alpha, beta, True, maximizing_color)\n",
        "          board.pop()\n",
        "          min_eval = min(min_eval, eval)\n",
        "          beta = min(beta, eval)\n",
        "          if beta <= alpha:\n",
        "              break\n",
        "      return min_eval\n",
        "def get_best_move(board:chess.Board, depth:int,  maximizing_player:bool)->tuple([str,float]):\n",
        "  \"\"\"\n",
        "  auxuliar function for use alphabeta\n",
        "  \"\"\"\n",
        "  best_move = None\n",
        "  max_eval = float('-inf')\n",
        "  alpha = float('-inf')\n",
        "  beta = float('inf')\n",
        "  for move in board.legal_moves:\n",
        "      board.push(move)\n",
        "      eval = alphabeta(board, depth-1, alpha, beta,  maximizing_player, maximizing_player)\n",
        "      board.pop()\n",
        "      if eval > max_eval:\n",
        "          max_eval = eval\n",
        "          best_move = move\n",
        "  return str(best_move), max_eval\n",
        "\n"
      ]
    },
    {
      "cell_type": "code",
      "execution_count": null,
      "metadata": {
        "colab": {
          "background_save": true,
          "base_uri": "https://localhost:8080/"
        },
        "id": "veF44gUhGnoY",
        "outputId": "c81e3bd9-e137-48da-8eef-397100e37ab3"
      },
      "outputs": [
        {
          "name": "stdout",
          "output_type": "stream",
          "text": [
            "\n",
            "♜ ♞ ♝ ♛ ♚ ♝ ♞ ♜\n",
            "♟ ♟ ♟ ♟ ♟ ♟ ♟ ♟\n",
            "⭘ ⭘ ⭘ ⭘ ⭘ ⭘ ⭘ ⭘\n",
            "⭘ ⭘ ⭘ ⭘ ⭘ ⭘ ⭘ ⭘\n",
            "⭘ ⭘ ⭘ ⭘ ⭘ ⭘ ⭘ ⭘\n",
            "⭘ ⭘ ⭘ ⭘ ⭘ ⭘ ⭘ ⭘\n",
            "♙ ♙ ♙ ♙ ♙ ♙ ♙ ♙\n",
            "♖ ♘ ♗ ♕ ♔ ♗ ♘ ♖\n",
            "\n",
            "Estas son las jugadas legales que puedes hacer en este instante: ['g1h3', 'g1f3', 'b1c3', 'b1a3', 'h2h3', 'g2g3', 'f2f3', 'e2e3', 'd2d3', 'c2c3', 'b2b3', 'a2a3', 'h2h4', 'g2g4', 'f2f4', 'e2e4', 'd2d4', 'c2c4', 'b2b4', 'a2a4']\n"
          ]
        }
      ],
      "source": [
        "def main():\n",
        "\tplayer=1#self.ask_colors()\n",
        "\tnot_player=0#not self.player.color\n",
        "\tboard=chess.Board()\n",
        "\ti=1\n",
        "\twhile True:\n",
        "\t\tprint(f'\\n{board.unicode()}\\n')\n",
        "\t\tif i%2==player:\n",
        "\t\t\t#if(i!=1):\n",
        "\t\t\t\t#print(f'Mejor jugada de agente: {best_move} - Puntaje de jugada: {score}\\n')\n",
        "\t\t\t\tlegal_moves = [move.uci() for move in list(board.legal_moves)] #List of the legal moves\n",
        "\t\t\t\tprint(f'Estas son las jugadas legales que puedes hacer en este instante: {legal_moves}')\n",
        "\t\t\t\ta=input(\"input: \")\n",
        "\n",
        "\t\t\t\twhile(a not in legal_moves):\n",
        "\t\t\t\t\tprint(\"\\nJUGADA INVÁLIDA. Intentalo de nuevo.\")\n",
        "\t\t\t\t\tprint(f'Estas son las jugadas legales que puedes hacer en este instante: {legal_moves}')\n",
        "\t\t\t\t\ta = input(\"input: \")\n",
        "\n",
        "\t\t\t\tboard.push_san(a)\n",
        "\n",
        "\t\telse:\n",
        "\t\t\tbest_move,score=get_best_move(board, 4, not_player)\n",
        "\t\t\tboard.push_san(best_move)\n",
        "\t\ti+=1\n",
        "if __name__=='__main__':\n",
        "\tmain()\n"
      ]
    }
  ],
  "metadata": {
    "colab": {
      "provenance": []
    },
    "kernelspec": {
      "display_name": "Python 3",
      "name": "python3"
    },
    "language_info": {
      "name": "python"
    }
  },
  "nbformat": 4,
  "nbformat_minor": 0
}