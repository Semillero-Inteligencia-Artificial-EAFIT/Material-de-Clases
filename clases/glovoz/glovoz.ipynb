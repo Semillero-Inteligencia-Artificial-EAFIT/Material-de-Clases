{
  "nbformat": 4,
  "nbformat_minor": 0,
  "metadata": {
    "colab": {
      "provenance": []
    },
    "kernelspec": {
      "name": "python3",
      "display_name": "Python 3"
    },
    "language_info": {
      "name": "python"
    }
  },
  "cells": [
    {
      "cell_type": "markdown",
      "source": [
        "#Prototipito de glovoz con"
      ],
      "metadata": {
        "id": "Y2YYmPubcBr7"
      }
    },
    {
      "cell_type": "markdown",
      "source": [
        "Primero glovoz nacio para ser una conexion bidireccional unicamente, solo de portuges español y español portuges, por lo tanto solo 2 conexiones (copielo y pegelo en su ordenador)\n"
      ],
      "metadata": {
        "id": "jxQ3Nn2xcW4t"
      }
    },
    {
      "cell_type": "markdown",
      "source": [
        "Para instalar depencencias"
      ],
      "metadata": {
        "id": "QB3y-CVHd3W4"
      }
    },
    {
      "cell_type": "code",
      "source": [
        "!pip install SpeechRecognition PyAudio gtts deep_translator"
      ],
      "metadata": {
        "colab": {
          "base_uri": "https://localhost:8080/"
        },
        "id": "tcz-nwfqd6iS",
        "outputId": "58164606-3ce7-4a95-a6e8-6cc3a1e170e9"
      },
      "execution_count": 2,
      "outputs": [
        {
          "output_type": "stream",
          "name": "stdout",
          "text": [
            "/bin/bash: line 1: clone: command not found\n",
            "/bin/bash: line 1: cd: seamless_communication: No such file or directory\n",
            "\u001b[31mERROR: Directory '.' is not installable. Neither 'setup.py' nor 'pyproject.toml' found.\u001b[0m\u001b[31m\n",
            "\u001b[0mCollecting SpeechRecognition\n",
            "  Downloading SpeechRecognition-3.10.0-py2.py3-none-any.whl (32.8 MB)\n",
            "\u001b[2K     \u001b[90m━━━━━━━━━━━━━━━━━━━━━━━━━━━━━━━━━━━━━━━━\u001b[0m \u001b[32m32.8/32.8 MB\u001b[0m \u001b[31m46.5 MB/s\u001b[0m eta \u001b[36m0:00:00\u001b[0m\n",
            "\u001b[?25hCollecting PyAudio\n",
            "  Downloading PyAudio-0.2.13.tar.gz (46 kB)\n",
            "\u001b[2K     \u001b[90m━━━━━━━━━━━━━━━━━━━━━━━━━━━━━━━━━━━━━━━━\u001b[0m \u001b[32m46.8/46.8 kB\u001b[0m \u001b[31m4.4 MB/s\u001b[0m eta \u001b[36m0:00:00\u001b[0m\n",
            "\u001b[?25h  Installing build dependencies ... \u001b[?25l\u001b[?25hdone\n",
            "  Getting requirements to build wheel ... \u001b[?25l\u001b[?25hdone\n",
            "  Preparing metadata (pyproject.toml) ... \u001b[?25l\u001b[?25hdone\n",
            "Collecting gtts\n",
            "  Downloading gTTS-2.4.0-py3-none-any.whl (29 kB)\n",
            "Collecting deep_translator\n",
            "  Downloading deep_translator-1.11.4-py3-none-any.whl (42 kB)\n",
            "\u001b[2K     \u001b[90m━━━━━━━━━━━━━━━━━━━━━━━━━━━━━━━━━━━━━━━━\u001b[0m \u001b[32m42.3/42.3 kB\u001b[0m \u001b[31m3.7 MB/s\u001b[0m eta \u001b[36m0:00:00\u001b[0m\n",
            "\u001b[?25hRequirement already satisfied: requests>=2.26.0 in /usr/local/lib/python3.10/dist-packages (from SpeechRecognition) (2.31.0)\n",
            "Requirement already satisfied: click<8.2,>=7.1 in /usr/local/lib/python3.10/dist-packages (from gtts) (8.1.7)\n",
            "Requirement already satisfied: beautifulsoup4<5.0.0,>=4.9.1 in /usr/local/lib/python3.10/dist-packages (from deep_translator) (4.11.2)\n",
            "Requirement already satisfied: soupsieve>1.2 in /usr/local/lib/python3.10/dist-packages (from beautifulsoup4<5.0.0,>=4.9.1->deep_translator) (2.5)\n",
            "Requirement already satisfied: charset-normalizer<4,>=2 in /usr/local/lib/python3.10/dist-packages (from requests>=2.26.0->SpeechRecognition) (3.3.0)\n",
            "Requirement already satisfied: idna<4,>=2.5 in /usr/local/lib/python3.10/dist-packages (from requests>=2.26.0->SpeechRecognition) (3.4)\n",
            "Requirement already satisfied: urllib3<3,>=1.21.1 in /usr/local/lib/python3.10/dist-packages (from requests>=2.26.0->SpeechRecognition) (2.0.7)\n",
            "Requirement already satisfied: certifi>=2017.4.17 in /usr/local/lib/python3.10/dist-packages (from requests>=2.26.0->SpeechRecognition) (2023.7.22)\n",
            "Building wheels for collected packages: PyAudio\n",
            "  \u001b[1;31merror\u001b[0m: \u001b[1msubprocess-exited-with-error\u001b[0m\n",
            "  \n",
            "  \u001b[31m×\u001b[0m \u001b[32mBuilding wheel for PyAudio \u001b[0m\u001b[1;32m(\u001b[0m\u001b[32mpyproject.toml\u001b[0m\u001b[1;32m)\u001b[0m did not run successfully.\n",
            "  \u001b[31m│\u001b[0m exit code: \u001b[1;36m1\u001b[0m\n",
            "  \u001b[31m╰─>\u001b[0m See above for output.\n",
            "  \n",
            "  \u001b[1;35mnote\u001b[0m: This error originates from a subprocess, and is likely not a problem with pip.\n",
            "  Building wheel for PyAudio (pyproject.toml) ... \u001b[?25l\u001b[?25herror\n",
            "\u001b[31m  ERROR: Failed building wheel for PyAudio\u001b[0m\u001b[31m\n",
            "\u001b[0mFailed to build PyAudio\n",
            "\u001b[31mERROR: Could not build wheels for PyAudio, which is required to install pyproject.toml-based projects\u001b[0m\u001b[31m\n",
            "\u001b[0m"
          ]
        }
      ]
    },
    {
      "cell_type": "markdown",
      "source": [
        "Install seamless [(ver mas formas de integrar seamless )](https://colab.research.google.com/github/R3gm/InsightSolver-Colab/blob/main/SeamlessM4T.ipynb#scrollTo=HApRildjd1RP)"
      ],
      "metadata": {
        "id": "xnNDPIcqeqo_"
      }
    },
    {
      "cell_type": "code",
      "source": [
        "!pip install fairseq2==0.1 pydub yt-dlp\n",
        "!git clone https://github.com/facebookresearch/seamless_communication.git\n",
        "%cd seamless_communication\n",
        "!git checkout 01c1042841f9bce66902eb2c7512dbdd71d42112 # We will use a stable version; if you want to use the latest version, comment out this line.\n",
        "!pip install ."
      ],
      "metadata": {
        "id": "MMHGJauhepHP"
      },
      "execution_count": null,
      "outputs": []
    },
    {
      "cell_type": "markdown",
      "source": [
        "Conexion \"1\""
      ],
      "metadata": {
        "id": "CWnNLlvJcdvs"
      }
    },
    {
      "cell_type": "code",
      "source": [
        "import socket\n",
        "from tools.tools import HOST,FROMIDIOM,TOIDIOM, PORT,speak,translate,recordAudio\n",
        "s = socket.socket()\n",
        "s.connect((HOST,PORT))\n",
        "while True:\n",
        "\ttxt=recordAudio()\n",
        "\ttxt=translate(txt,FROMIDIOM,TOIDIOM)\n",
        "\ts.send(txt.encode());\n",
        "\tif(txt == \"Bye\" or txt == \"bye\"):\n",
        "\t\tbreak\n",
        "\trcvdData=str(s.recv(1024).decode())\n",
        "\tprint (\"N:\",rcvdData)\n",
        "\tspeak(rcvdData)\n",
        "\n",
        "s.close()"
      ],
      "metadata": {
        "id": "WqlvqNt3cHPz"
      },
      "execution_count": null,
      "outputs": []
    },
    {
      "cell_type": "markdown",
      "source": [
        "Conexion \"2\""
      ],
      "metadata": {
        "id": "uxqsP5SPcbzv"
      }
    },
    {
      "cell_type": "code",
      "execution_count": null,
      "metadata": {
        "id": "c-OCc6VEcBJh"
      },
      "outputs": [],
      "source": [
        "import socket\n",
        "from tools.tools import HOST,FROMIDIOM,TOIDIOM, PORT,speak,translate,recordAudio\n",
        "s = socket.socket()\n",
        "s.bind(('', PORT))\n",
        "s.listen(5)\n",
        "c, addr = s.accept()\n",
        "print(\"Socket Up and running with a connection from\",addr)\n",
        "try:\n",
        "    while True:\n",
        "        rcvdData = c.recv(1024).decode()\n",
        "        txt=translate(rcvdData,FROMIDIOM,TOIDIOM)\n",
        "        print( \"S:\",txt)\n",
        "        speak(rcvdData)\n",
        "        sendData =recordAudio()# input(\"N: \")\n",
        "        c.send(sendData.encode())\n",
        "        if(sendData == \"Bye\" or sendData == \"bye\"):\n",
        "            break\n",
        "except:\n",
        "    c.close()\n",
        "c.close()"
      ]
    },
    {
      "cell_type": "markdown",
      "source": [
        "Definicion de Funciones"
      ],
      "metadata": {
        "id": "YIiV6tuhdJ91"
      }
    },
    {
      "cell_type": "code",
      "source": [
        "import speech_recognition as sr\n",
        "from gtts import gTTS\n",
        "import os\n",
        "PORT=65426\n",
        "#HOST='192.0.0.1'\n",
        "HOST='0.0.0.0'\n",
        "\n",
        "FROMIDIOM=\"es\"\n",
        "TOIDIOM=\"de\"\n",
        "def recordAudio():\n",
        "    # Record Audio\n",
        "    r = sr.Recognizer()\n",
        "    with sr.Microphone() as source:\n",
        "        print(\"Say something!\")\n",
        "        audio = r.listen(source)\n",
        "\n",
        "        # Speech recognition using Google Speech Recognition\n",
        "        data = \"\"\n",
        "        try:\n",
        "            # Uses the default API key\n",
        "            # To use another API key: `r.recognize_google(audio, key=\"GOOGLE_SPEECH_RECOGNITION_API_KEY\")`\n",
        "            data = r.recognize_google(audio)\n",
        "            print(\"You said: \" + data)\n",
        "        except sr.UnknownValueError:\n",
        "            print(\"Google Speech Recognition could not understand audio\")\n",
        "            speak(\"I couldn't understand you\")\n",
        "        except sr.RequestError as e:\n",
        "            print(\"Could not request results from Google Speech Recognition service; {0}\".format(e))\n",
        "        data = data.lower()\n",
        "        return data\n",
        "def speak(audioString):\n",
        "    print(audioString)\n",
        "    tts = gTTS(text=audioString, lang='en')\n",
        "    tts.save(\"audio.mp3\")\n",
        "    os.system(\"mpg123 audio.mp3\")\n",
        "try:\n",
        "\tdef webTranslate(text,source,destiny):\n",
        "\t\tlanguage_code_to_name = {\"de\":\"deu\",\"en\":\"eng\",\"es\":\"spa\",\"ru\":\"rus\",\"fr\":\"fra\",\"pt\":\"pot\"}\n",
        "\t\tfrom seamless_communication.models.inference import Translator\n",
        "\t\timport torch\n",
        "\t\ttranslator = Translator(\n",
        "\t\t\t\t\"seamlessM4T_large\",\n",
        "\t\t\t\t\"vocoder_36langs\",\n",
        "\t\t\t\ttorch.device(\"cuda:0\")\n",
        "\t\t)\n",
        "\t\ttranslated_text, _, _ = translator.predict(text, \"t2tt\", language_code_to_name[destiny], src_lang=language_code_to_name[source])\n",
        "\t\treturn translated_text\n",
        "except:\n",
        "  \"\"\"\n",
        "  anterior funcion para traduccion\n",
        "  \"\"\"\n",
        "  def webTranslate(txt,writeIn,translateTo):\n",
        "    \"\"\"\n",
        "    webTranslate(txt,writeIn,translateTo )\n",
        "      - txt\t\t\t  -text to trasnlate\n",
        "      - writeIn\t\t  -in which language is it written\n",
        "      - translateTo\t  -language to be translated\n",
        "    rember language prefix\n",
        "    en -> english\n",
        "    es -> spanish\n",
        "    ...\n",
        "    \"\"\"\n",
        "    from deep_translator import GoogleTranslator\n",
        "    translatedTxt = GoogleTranslator(source=writeIn, target=translateTo).translate(txt)\n",
        "    return translatedTxt"
      ],
      "metadata": {
        "id": "B_Ab1otKdTI-"
      },
      "execution_count": null,
      "outputs": []
    }
  ]
}